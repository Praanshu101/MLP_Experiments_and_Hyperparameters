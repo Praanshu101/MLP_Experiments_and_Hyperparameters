{
 "cells": [
  {
   "cell_type": "markdown",
   "metadata": {},
   "source": [
    "# Section 1"
   ]
  },
  {
   "cell_type": "code",
   "execution_count": 43,
   "metadata": {},
   "outputs": [],
   "source": [
    "import warnings\n",
    "warnings.filterwarnings(\"ignore\")\n"
   ]
  },
  {
   "cell_type": "markdown",
   "metadata": {},
   "source": [
    "## Loading Data"
   ]
  },
  {
   "cell_type": "code",
   "execution_count": 44,
   "metadata": {},
   "outputs": [],
   "source": [
    "import sklearn.datasets\n",
    "\n",
    "# Loading the dataset\n",
    "iris = sklearn.datasets.load_iris()"
   ]
  },
  {
   "cell_type": "code",
   "execution_count": 45,
   "metadata": {},
   "outputs": [
    {
     "name": "stdout",
     "output_type": "stream",
     "text": [
      "Shape of data:  (150, 4)\n",
      "Shape of labels:  (150,)\n",
      "Shape of labels after one-hot encoding:  (150, 3)\n",
      "Count of each class:  [50. 50. 50.]\n"
     ]
    }
   ],
   "source": [
    "# Extracting features and labels and ensuring that labels are one-hot encoded\n",
    "\n",
    "X = iris.data\n",
    "y = iris.target\n",
    "\n",
    "print(\"Shape of data: \",X.shape)\n",
    "print(\"Shape of labels: \",y.shape)\n",
    "\n",
    "# Performing one-hot encoding\n",
    "from sklearn.preprocessing import OneHotEncoder\n",
    "import numpy as np\n",
    "\n",
    "enc = OneHotEncoder()\n",
    "y = enc.fit_transform(y[:, np.newaxis]).toarray() \n",
    "#np.newaxis is used to increase the dimension of the existing array by one more dimension, when used once. Thus, 1D array will become 2D array.\n",
    "#toarray() is used to convert the sparse matrix to dense matrix\n",
    "#fit_transform() is used to fit the data and then transform it\n",
    "\n",
    "print(\"Shape of labels after one-hot encoding: \",y.shape)\n",
    "print(\"Count of each class: \",y.sum(axis = 0))"
   ]
  },
  {
   "cell_type": "code",
   "execution_count": 46,
   "metadata": {},
   "outputs": [],
   "source": [
    "# Train-test split (80-20 split)\n",
    "from sklearn.model_selection import train_test_split\n",
    "\n",
    "X_train, X_test, y_train, y_test = train_test_split(X, y, test_size=0.2, random_state=42)"
   ]
  },
  {
   "cell_type": "code",
   "execution_count": 47,
   "metadata": {},
   "outputs": [
    {
     "name": "stdout",
     "output_type": "stream",
     "text": [
      "First 5 rows of training data before scaling: \n",
      " [[4.6 3.6 1.  0.2]\n",
      " [5.7 4.4 1.5 0.4]\n",
      " [6.7 3.1 4.4 1.4]\n",
      " [4.8 3.4 1.6 0.2]\n",
      " [4.4 3.2 1.3 0.2]]\n",
      "First 5 rows of training data after scaling: \n",
      " [[0.08823529 0.66666667 0.         0.04166667]\n",
      " [0.41176471 1.         0.0877193  0.125     ]\n",
      " [0.70588235 0.45833333 0.59649123 0.54166667]\n",
      " [0.14705882 0.58333333 0.10526316 0.04166667]\n",
      " [0.02941176 0.5        0.05263158 0.04166667]]\n"
     ]
    }
   ],
   "source": [
    "# Normalizing the data to [0,1] using standard scaling\n",
    "from sklearn.preprocessing import MinMaxScaler\n",
    "\n",
    "print(\"First 5 rows of training data before scaling: \\n\",X_train[:5])\n",
    "\n",
    "scaler = MinMaxScaler()\n",
    "X_train = scaler.fit_transform(X_train)\n",
    "X_test = scaler.transform(X_test)\n",
    "\n",
    "# MinMaxScaler formula: X_std = (X - X.min(axis=0)) / (X.max(axis=0) - X.min(axis=0))\n",
    "#                       X_scaled = X_std * (max - min) + min\n",
    "\n",
    "print(\"First 5 rows of training data after scaling: \\n\",X_train[:5])"
   ]
  },
  {
   "cell_type": "markdown",
   "metadata": {},
   "source": [
    "## Model training and evaluation"
   ]
  },
  {
   "cell_type": "markdown",
   "metadata": {},
   "source": [
    "Model:\n",
    "- Input layer: 4 neurons (for 4 features).\n",
    "- Hidden layer: 16 neurons, ReLU activation.\n",
    "- Output layer: 3 neurons (for each class), softmax activation.\n",
    "\n",
    "Hyperparameters:\n",
    "- Loss function: Categorical cross-entropy.\n",
    "- Optimizer: Adam.\n",
    "- Learning rate: 0.001.\n",
    "- Batch size: 32.\n",
    "- Epochs: 50.\n"
   ]
  },
  {
   "cell_type": "code",
   "execution_count": 48,
   "metadata": {},
   "outputs": [
    {
     "data": {
      "text/html": [
       "<pre style=\"white-space:pre;overflow-x:auto;line-height:normal;font-family:Menlo,'DejaVu Sans Mono',consolas,'Courier New',monospace\"><span style=\"font-weight: bold\">Model: \"sequential\"</span>\n",
       "</pre>\n"
      ],
      "text/plain": [
       "\u001b[1mModel: \"sequential\"\u001b[0m\n"
      ]
     },
     "metadata": {},
     "output_type": "display_data"
    },
    {
     "data": {
      "text/html": [
       "<pre style=\"white-space:pre;overflow-x:auto;line-height:normal;font-family:Menlo,'DejaVu Sans Mono',consolas,'Courier New',monospace\">┏━━━━━━━━━━━━━━━━━━━━━━━━━━━━━━━━━┳━━━━━━━━━━━━━━━━━━━━━━━━┳━━━━━━━━━━━━━━━┓\n",
       "┃<span style=\"font-weight: bold\"> Layer (type)                    </span>┃<span style=\"font-weight: bold\"> Output Shape           </span>┃<span style=\"font-weight: bold\">       Param # </span>┃\n",
       "┡━━━━━━━━━━━━━━━━━━━━━━━━━━━━━━━━━╇━━━━━━━━━━━━━━━━━━━━━━━━╇━━━━━━━━━━━━━━━┩\n",
       "│ dense (<span style=\"color: #0087ff; text-decoration-color: #0087ff\">Dense</span>)                   │ (<span style=\"color: #00d7ff; text-decoration-color: #00d7ff\">None</span>, <span style=\"color: #00af00; text-decoration-color: #00af00\">16</span>)             │            <span style=\"color: #00af00; text-decoration-color: #00af00\">80</span> │\n",
       "├─────────────────────────────────┼────────────────────────┼───────────────┤\n",
       "│ dense_1 (<span style=\"color: #0087ff; text-decoration-color: #0087ff\">Dense</span>)                 │ (<span style=\"color: #00d7ff; text-decoration-color: #00d7ff\">None</span>, <span style=\"color: #00af00; text-decoration-color: #00af00\">3</span>)              │            <span style=\"color: #00af00; text-decoration-color: #00af00\">51</span> │\n",
       "└─────────────────────────────────┴────────────────────────┴───────────────┘\n",
       "</pre>\n"
      ],
      "text/plain": [
       "┏━━━━━━━━━━━━━━━━━━━━━━━━━━━━━━━━━┳━━━━━━━━━━━━━━━━━━━━━━━━┳━━━━━━━━━━━━━━━┓\n",
       "┃\u001b[1m \u001b[0m\u001b[1mLayer (type)                   \u001b[0m\u001b[1m \u001b[0m┃\u001b[1m \u001b[0m\u001b[1mOutput Shape          \u001b[0m\u001b[1m \u001b[0m┃\u001b[1m \u001b[0m\u001b[1m      Param #\u001b[0m\u001b[1m \u001b[0m┃\n",
       "┡━━━━━━━━━━━━━━━━━━━━━━━━━━━━━━━━━╇━━━━━━━━━━━━━━━━━━━━━━━━╇━━━━━━━━━━━━━━━┩\n",
       "│ dense (\u001b[38;5;33mDense\u001b[0m)                   │ (\u001b[38;5;45mNone\u001b[0m, \u001b[38;5;34m16\u001b[0m)             │            \u001b[38;5;34m80\u001b[0m │\n",
       "├─────────────────────────────────┼────────────────────────┼───────────────┤\n",
       "│ dense_1 (\u001b[38;5;33mDense\u001b[0m)                 │ (\u001b[38;5;45mNone\u001b[0m, \u001b[38;5;34m3\u001b[0m)              │            \u001b[38;5;34m51\u001b[0m │\n",
       "└─────────────────────────────────┴────────────────────────┴───────────────┘\n"
      ]
     },
     "metadata": {},
     "output_type": "display_data"
    },
    {
     "data": {
      "text/html": [
       "<pre style=\"white-space:pre;overflow-x:auto;line-height:normal;font-family:Menlo,'DejaVu Sans Mono',consolas,'Courier New',monospace\"><span style=\"font-weight: bold\"> Total params: </span><span style=\"color: #00af00; text-decoration-color: #00af00\">131</span> (524.00 B)\n",
       "</pre>\n"
      ],
      "text/plain": [
       "\u001b[1m Total params: \u001b[0m\u001b[38;5;34m131\u001b[0m (524.00 B)\n"
      ]
     },
     "metadata": {},
     "output_type": "display_data"
    },
    {
     "data": {
      "text/html": [
       "<pre style=\"white-space:pre;overflow-x:auto;line-height:normal;font-family:Menlo,'DejaVu Sans Mono',consolas,'Courier New',monospace\"><span style=\"font-weight: bold\"> Trainable params: </span><span style=\"color: #00af00; text-decoration-color: #00af00\">131</span> (524.00 B)\n",
       "</pre>\n"
      ],
      "text/plain": [
       "\u001b[1m Trainable params: \u001b[0m\u001b[38;5;34m131\u001b[0m (524.00 B)\n"
      ]
     },
     "metadata": {},
     "output_type": "display_data"
    },
    {
     "data": {
      "text/html": [
       "<pre style=\"white-space:pre;overflow-x:auto;line-height:normal;font-family:Menlo,'DejaVu Sans Mono',consolas,'Courier New',monospace\"><span style=\"font-weight: bold\"> Non-trainable params: </span><span style=\"color: #00af00; text-decoration-color: #00af00\">0</span> (0.00 B)\n",
       "</pre>\n"
      ],
      "text/plain": [
       "\u001b[1m Non-trainable params: \u001b[0m\u001b[38;5;34m0\u001b[0m (0.00 B)\n"
      ]
     },
     "metadata": {},
     "output_type": "display_data"
    }
   ],
   "source": [
    "import keras\n",
    "from keras.models import Sequential\n",
    "from keras.layers import Dense\n",
    "\n",
    "# Clear any existing model in memory\n",
    "keras.backend.clear_session()\n",
    "\n",
    "# Defining the MLP model\n",
    "model = Sequential()\n",
    "model.add(Dense(16, input_dim=4, activation='relu'))\n",
    "model.add(Dense(3, activation='softmax'))\n",
    "\n",
    "model.compile(optimizer=keras.optimizers.Adam(learning_rate=0.001),\n",
    "    loss=keras.losses.BinaryCrossentropy())\n",
    "\n",
    "model.summary()"
   ]
  },
  {
   "cell_type": "code",
   "execution_count": 49,
   "metadata": {},
   "outputs": [
    {
     "name": "stdout",
     "output_type": "stream",
     "text": [
      "Epoch 1/50\n",
      "\u001b[1m4/4\u001b[0m \u001b[32m━━━━━━━━━━━━━━━━━━━━\u001b[0m\u001b[37m\u001b[0m \u001b[1m0s\u001b[0m 25ms/step - loss: 0.7054 - val_loss: 0.6926\n",
      "Epoch 2/50\n",
      "\u001b[1m4/4\u001b[0m \u001b[32m━━━━━━━━━━━━━━━━━━━━\u001b[0m\u001b[37m\u001b[0m \u001b[1m0s\u001b[0m 9ms/step - loss: 0.6986 - val_loss: 0.6860\n",
      "Epoch 3/50\n",
      "\u001b[1m4/4\u001b[0m \u001b[32m━━━━━━━━━━━━━━━━━━━━\u001b[0m\u001b[37m\u001b[0m \u001b[1m0s\u001b[0m 9ms/step - loss: 0.6904 - val_loss: 0.6797\n",
      "Epoch 4/50\n",
      "\u001b[1m4/4\u001b[0m \u001b[32m━━━━━━━━━━━━━━━━━━━━\u001b[0m\u001b[37m\u001b[0m \u001b[1m0s\u001b[0m 8ms/step - loss: 0.6795 - val_loss: 0.6737\n",
      "Epoch 5/50\n",
      "\u001b[1m4/4\u001b[0m \u001b[32m━━━━━━━━━━━━━━━━━━━━\u001b[0m\u001b[37m\u001b[0m \u001b[1m0s\u001b[0m 8ms/step - loss: 0.6711 - val_loss: 0.6679\n",
      "Epoch 6/50\n",
      "\u001b[1m4/4\u001b[0m \u001b[32m━━━━━━━━━━━━━━━━━━━━\u001b[0m\u001b[37m\u001b[0m \u001b[1m0s\u001b[0m 8ms/step - loss: 0.6710 - val_loss: 0.6626\n",
      "Epoch 7/50\n",
      "\u001b[1m4/4\u001b[0m \u001b[32m━━━━━━━━━━━━━━━━━━━━\u001b[0m\u001b[37m\u001b[0m \u001b[1m0s\u001b[0m 8ms/step - loss: 0.6687 - val_loss: 0.6578\n",
      "Epoch 8/50\n",
      "\u001b[1m4/4\u001b[0m \u001b[32m━━━━━━━━━━━━━━━━━━━━\u001b[0m\u001b[37m\u001b[0m \u001b[1m0s\u001b[0m 8ms/step - loss: 0.6604 - val_loss: 0.6535\n",
      "Epoch 9/50\n",
      "\u001b[1m4/4\u001b[0m \u001b[32m━━━━━━━━━━━━━━━━━━━━\u001b[0m\u001b[37m\u001b[0m \u001b[1m0s\u001b[0m 8ms/step - loss: 0.6580 - val_loss: 0.6495\n",
      "Epoch 10/50\n",
      "\u001b[1m4/4\u001b[0m \u001b[32m━━━━━━━━━━━━━━━━━━━━\u001b[0m\u001b[37m\u001b[0m \u001b[1m0s\u001b[0m 8ms/step - loss: 0.6559 - val_loss: 0.6458\n",
      "Epoch 11/50\n",
      "\u001b[1m4/4\u001b[0m \u001b[32m━━━━━━━━━━━━━━━━━━━━\u001b[0m\u001b[37m\u001b[0m \u001b[1m0s\u001b[0m 8ms/step - loss: 0.6451 - val_loss: 0.6423\n",
      "Epoch 12/50\n",
      "\u001b[1m4/4\u001b[0m \u001b[32m━━━━━━━━━━━━━━━━━━━━\u001b[0m\u001b[37m\u001b[0m \u001b[1m0s\u001b[0m 8ms/step - loss: 0.6394 - val_loss: 0.6390\n",
      "Epoch 13/50\n",
      "\u001b[1m4/4\u001b[0m \u001b[32m━━━━━━━━━━━━━━━━━━━━\u001b[0m\u001b[37m\u001b[0m \u001b[1m0s\u001b[0m 8ms/step - loss: 0.6390 - val_loss: 0.6358\n",
      "Epoch 14/50\n",
      "\u001b[1m4/4\u001b[0m \u001b[32m━━━━━━━━━━━━━━━━━━━━\u001b[0m\u001b[37m\u001b[0m \u001b[1m0s\u001b[0m 8ms/step - loss: 0.6316 - val_loss: 0.6324\n",
      "Epoch 15/50\n",
      "\u001b[1m4/4\u001b[0m \u001b[32m━━━━━━━━━━━━━━━━━━━━\u001b[0m\u001b[37m\u001b[0m \u001b[1m0s\u001b[0m 9ms/step - loss: 0.6307 - val_loss: 0.6288\n",
      "Epoch 16/50\n",
      "\u001b[1m4/4\u001b[0m \u001b[32m━━━━━━━━━━━━━━━━━━━━\u001b[0m\u001b[37m\u001b[0m \u001b[1m0s\u001b[0m 8ms/step - loss: 0.6237 - val_loss: 0.6255\n",
      "Epoch 17/50\n",
      "\u001b[1m4/4\u001b[0m \u001b[32m━━━━━━━━━━━━━━━━━━━━\u001b[0m\u001b[37m\u001b[0m \u001b[1m0s\u001b[0m 8ms/step - loss: 0.6180 - val_loss: 0.6221\n",
      "Epoch 18/50\n",
      "\u001b[1m4/4\u001b[0m \u001b[32m━━━━━━━━━━━━━━━━━━━━\u001b[0m\u001b[37m\u001b[0m \u001b[1m0s\u001b[0m 8ms/step - loss: 0.6152 - val_loss: 0.6187\n",
      "Epoch 19/50\n",
      "\u001b[1m4/4\u001b[0m \u001b[32m━━━━━━━━━━━━━━━━━━━━\u001b[0m\u001b[37m\u001b[0m \u001b[1m0s\u001b[0m 8ms/step - loss: 0.6114 - val_loss: 0.6153\n",
      "Epoch 20/50\n",
      "\u001b[1m4/4\u001b[0m \u001b[32m━━━━━━━━━━━━━━━━━━━━\u001b[0m\u001b[37m\u001b[0m \u001b[1m0s\u001b[0m 8ms/step - loss: 0.6054 - val_loss: 0.6119\n",
      "Epoch 21/50\n",
      "\u001b[1m4/4\u001b[0m \u001b[32m━━━━━━━━━━━━━━━━━━━━\u001b[0m\u001b[37m\u001b[0m \u001b[1m0s\u001b[0m 8ms/step - loss: 0.6018 - val_loss: 0.6089\n",
      "Epoch 22/50\n",
      "\u001b[1m4/4\u001b[0m \u001b[32m━━━━━━━━━━━━━━━━━━━━\u001b[0m\u001b[37m\u001b[0m \u001b[1m0s\u001b[0m 8ms/step - loss: 0.5987 - val_loss: 0.6059\n",
      "Epoch 23/50\n",
      "\u001b[1m4/4\u001b[0m \u001b[32m━━━━━━━━━━━━━━━━━━━━\u001b[0m\u001b[37m\u001b[0m \u001b[1m0s\u001b[0m 8ms/step - loss: 0.5948 - val_loss: 0.6031\n",
      "Epoch 24/50\n",
      "\u001b[1m4/4\u001b[0m \u001b[32m━━━━━━━━━━━━━━━━━━━━\u001b[0m\u001b[37m\u001b[0m \u001b[1m0s\u001b[0m 8ms/step - loss: 0.5912 - val_loss: 0.6002\n",
      "Epoch 25/50\n",
      "\u001b[1m4/4\u001b[0m \u001b[32m━━━━━━━━━━━━━━━━━━━━\u001b[0m\u001b[37m\u001b[0m \u001b[1m0s\u001b[0m 8ms/step - loss: 0.5871 - val_loss: 0.5974\n",
      "Epoch 26/50\n",
      "\u001b[1m4/4\u001b[0m \u001b[32m━━━━━━━━━━━━━━━━━━━━\u001b[0m\u001b[37m\u001b[0m \u001b[1m0s\u001b[0m 7ms/step - loss: 0.5837 - val_loss: 0.5946\n",
      "Epoch 27/50\n",
      "\u001b[1m4/4\u001b[0m \u001b[32m━━━━━━━━━━━━━━━━━━━━\u001b[0m\u001b[37m\u001b[0m \u001b[1m0s\u001b[0m 8ms/step - loss: 0.5807 - val_loss: 0.5917\n",
      "Epoch 28/50\n",
      "\u001b[1m4/4\u001b[0m \u001b[32m━━━━━━━━━━━━━━━━━━━━\u001b[0m\u001b[37m\u001b[0m \u001b[1m0s\u001b[0m 8ms/step - loss: 0.5753 - val_loss: 0.5889\n",
      "Epoch 29/50\n",
      "\u001b[1m4/4\u001b[0m \u001b[32m━━━━━━━━━━━━━━━━━━━━\u001b[0m\u001b[37m\u001b[0m \u001b[1m0s\u001b[0m 8ms/step - loss: 0.5734 - val_loss: 0.5862\n",
      "Epoch 30/50\n",
      "\u001b[1m4/4\u001b[0m \u001b[32m━━━━━━━━━━━━━━━━━━━━\u001b[0m\u001b[37m\u001b[0m \u001b[1m0s\u001b[0m 8ms/step - loss: 0.5695 - val_loss: 0.5835\n",
      "Epoch 31/50\n",
      "\u001b[1m4/4\u001b[0m \u001b[32m━━━━━━━━━━━━━━━━━━━━\u001b[0m\u001b[37m\u001b[0m \u001b[1m0s\u001b[0m 8ms/step - loss: 0.5652 - val_loss: 0.5808\n",
      "Epoch 32/50\n",
      "\u001b[1m4/4\u001b[0m \u001b[32m━━━━━━━━━━━━━━━━━━━━\u001b[0m\u001b[37m\u001b[0m \u001b[1m0s\u001b[0m 8ms/step - loss: 0.5628 - val_loss: 0.5782\n",
      "Epoch 33/50\n",
      "\u001b[1m4/4\u001b[0m \u001b[32m━━━━━━━━━━━━━━━━━━━━\u001b[0m\u001b[37m\u001b[0m \u001b[1m0s\u001b[0m 8ms/step - loss: 0.5564 - val_loss: 0.5755\n",
      "Epoch 34/50\n",
      "\u001b[1m4/4\u001b[0m \u001b[32m━━━━━━━━━━━━━━━━━━━━\u001b[0m\u001b[37m\u001b[0m \u001b[1m0s\u001b[0m 7ms/step - loss: 0.5570 - val_loss: 0.5728\n",
      "Epoch 35/50\n",
      "\u001b[1m4/4\u001b[0m \u001b[32m━━━━━━━━━━━━━━━━━━━━\u001b[0m\u001b[37m\u001b[0m \u001b[1m0s\u001b[0m 8ms/step - loss: 0.5499 - val_loss: 0.5702\n",
      "Epoch 36/50\n",
      "\u001b[1m4/4\u001b[0m \u001b[32m━━━━━━━━━━━━━━━━━━━━\u001b[0m\u001b[37m\u001b[0m \u001b[1m0s\u001b[0m 8ms/step - loss: 0.5480 - val_loss: 0.5674\n",
      "Epoch 37/50\n",
      "\u001b[1m4/4\u001b[0m \u001b[32m━━━━━━━━━━━━━━━━━━━━\u001b[0m\u001b[37m\u001b[0m \u001b[1m0s\u001b[0m 8ms/step - loss: 0.5408 - val_loss: 0.5647\n",
      "Epoch 38/50\n",
      "\u001b[1m4/4\u001b[0m \u001b[32m━━━━━━━━━━━━━━━━━━━━\u001b[0m\u001b[37m\u001b[0m \u001b[1m0s\u001b[0m 8ms/step - loss: 0.5419 - val_loss: 0.5618\n",
      "Epoch 39/50\n",
      "\u001b[1m4/4\u001b[0m \u001b[32m━━━━━━━━━━━━━━━━━━━━\u001b[0m\u001b[37m\u001b[0m \u001b[1m0s\u001b[0m 8ms/step - loss: 0.5367 - val_loss: 0.5592\n",
      "Epoch 40/50\n",
      "\u001b[1m4/4\u001b[0m \u001b[32m━━━━━━━━━━━━━━━━━━━━\u001b[0m\u001b[37m\u001b[0m \u001b[1m0s\u001b[0m 8ms/step - loss: 0.5313 - val_loss: 0.5567\n",
      "Epoch 41/50\n",
      "\u001b[1m4/4\u001b[0m \u001b[32m━━━━━━━━━━━━━━━━━━━━\u001b[0m\u001b[37m\u001b[0m \u001b[1m0s\u001b[0m 8ms/step - loss: 0.5293 - val_loss: 0.5541\n",
      "Epoch 42/50\n",
      "\u001b[1m4/4\u001b[0m \u001b[32m━━━━━━━━━━━━━━━━━━━━\u001b[0m\u001b[37m\u001b[0m \u001b[1m0s\u001b[0m 20ms/step - loss: 0.5233 - val_loss: 0.5516\n",
      "Epoch 43/50\n",
      "\u001b[1m4/4\u001b[0m \u001b[32m━━━━━━━━━━━━━━━━━━━━\u001b[0m\u001b[37m\u001b[0m \u001b[1m0s\u001b[0m 8ms/step - loss: 0.5258 - val_loss: 0.5492\n",
      "Epoch 44/50\n",
      "\u001b[1m4/4\u001b[0m \u001b[32m━━━━━━━━━━━━━━━━━━━━\u001b[0m\u001b[37m\u001b[0m \u001b[1m0s\u001b[0m 8ms/step - loss: 0.5220 - val_loss: 0.5467\n",
      "Epoch 45/50\n",
      "\u001b[1m4/4\u001b[0m \u001b[32m━━━━━━━━━━━━━━━━━━━━\u001b[0m\u001b[37m\u001b[0m \u001b[1m0s\u001b[0m 8ms/step - loss: 0.5168 - val_loss: 0.5443\n",
      "Epoch 46/50\n",
      "\u001b[1m4/4\u001b[0m \u001b[32m━━━━━━━━━━━━━━━━━━━━\u001b[0m\u001b[37m\u001b[0m \u001b[1m0s\u001b[0m 8ms/step - loss: 0.5128 - val_loss: 0.5418\n",
      "Epoch 47/50\n",
      "\u001b[1m4/4\u001b[0m \u001b[32m━━━━━━━━━━━━━━━━━━━━\u001b[0m\u001b[37m\u001b[0m \u001b[1m0s\u001b[0m 8ms/step - loss: 0.5131 - val_loss: 0.5392\n",
      "Epoch 48/50\n",
      "\u001b[1m4/4\u001b[0m \u001b[32m━━━━━━━━━━━━━━━━━━━━\u001b[0m\u001b[37m\u001b[0m \u001b[1m0s\u001b[0m 8ms/step - loss: 0.4988 - val_loss: 0.5369\n",
      "Epoch 49/50\n",
      "\u001b[1m4/4\u001b[0m \u001b[32m━━━━━━━━━━━━━━━━━━━━\u001b[0m\u001b[37m\u001b[0m \u001b[1m0s\u001b[0m 7ms/step - loss: 0.5011 - val_loss: 0.5345\n",
      "Epoch 50/50\n",
      "\u001b[1m4/4\u001b[0m \u001b[32m━━━━━━━━━━━━━━━━━━━━\u001b[0m\u001b[37m\u001b[0m \u001b[1m0s\u001b[0m 8ms/step - loss: 0.5014 - val_loss: 0.5322\n",
      "Finished training\n"
     ]
    }
   ],
   "source": [
    "# Training the model\n",
    "epochs = 50\n",
    "batch_size = 32\n",
    "history = model.fit(X_train, y_train, epochs=50, batch_size=32, verbose=1, validation_split=0.1)\n",
    "print(\"Finished training\")"
   ]
  },
  {
   "cell_type": "code",
   "execution_count": 50,
   "metadata": {},
   "outputs": [
    {
     "name": "stdout",
     "output_type": "stream",
     "text": [
      "\u001b[1m1/1\u001b[0m \u001b[32m━━━━━━━━━━━━━━━━━━━━\u001b[0m\u001b[37m\u001b[0m \u001b[1m0s\u001b[0m 22ms/step\n",
      "First 5 predictions: \n",
      " [[0.17211556 0.37149072 0.4563936 ]\n",
      " [0.5746523  0.23069519 0.1946525 ]\n",
      " [0.06342804 0.36776316 0.5688088 ]\n",
      " [0.17408453 0.37657005 0.44934544]\n",
      " [0.12550925 0.36915812 0.50533265]]\n",
      "First 5 actual: \n",
      " [[0. 1. 0.]\n",
      " [1. 0. 0.]\n",
      " [0. 0. 1.]\n",
      " [0. 1. 0.]\n",
      " [0. 1. 0.]]\n",
      "Accuracy:  0.7\n",
      "Precision:  0.535\n",
      "Recall:  0.7\n",
      "F1 Score:  0.5935483870967742\n"
     ]
    }
   ],
   "source": [
    "# Evaluating the model\n",
    "\n",
    "from sklearn.metrics import accuracy_score, precision_score, recall_score, f1_score\n",
    "\n",
    "y_pred = model.predict(X_test)\n",
    "print(\"First 5 predictions: \\n\",y_pred[:5])\n",
    "print(\"First 5 actual: \\n\",y_test[:5])\n",
    "\n",
    "# Converting the one-hot encoded vectors to a single class\n",
    "y_pred = np.argmax(y_pred, axis=1)\n",
    "y_test_n = np.argmax(y_test, axis=1)\n",
    "\n",
    "accuracy=accuracy_score(y_test_n, y_pred)\n",
    "precision=precision_score(y_test_n, y_pred, average='weighted')  # average='weighted' is used to calculate the precision for each class and then average it\n",
    "recall=recall_score(y_test_n, y_pred, average='weighted')\n",
    "f1=f1_score(y_test_n, y_pred, average='weighted')\n",
    "\n",
    "print(\"Accuracy: \",accuracy)\n",
    "print(\"Precision: \",precision)\n",
    "print(\"Recall: \",recall)\n",
    "print(\"F1 Score: \",f1)"
   ]
  },
  {
   "cell_type": "code",
   "execution_count": 51,
   "metadata": {},
   "outputs": [
    {
     "data": {
      "image/png": "[encoded data removed]",
      "text/plain": [
       "<Figure size 640x480 with 2 Axes>"
      ]
     },
     "metadata": {},
     "output_type": "display_data"
    }
   ],
   "source": [
    "# Heatmap for confusion matrix\n",
    "import seaborn as sns\n",
    "import matplotlib.pyplot as plt\n",
    "from sklearn.metrics import confusion_matrix\n",
    "\n",
    "cm = confusion_matrix(y_test_n, y_pred)\n",
    "sns.heatmap(cm, annot=True, fmt='d', cmap='Blues')\n",
    "plt.xlabel('Predicted')\n",
    "plt.ylabel('Actual')\n",
    "plt.title('Confusion Matrix')\n",
    "plt.savefig('confusion_matrix.png')\n",
    "plt.show()"
   ]
  },
  {
   "cell_type": "code",
   "execution_count": 52,
   "metadata": {},
   "outputs": [
    {
     "data": {
      "image/png": "[encoded data removed]",
      "text/plain": [
       "<Figure size 640x480 with 1 Axes>"
      ]
     },
     "metadata": {},
     "output_type": "display_data"
    }
   ],
   "source": [
    "# Plotting the training and validation losses\n",
    "plt.plot(history.history['loss'], label='Training Loss')\n",
    "plt.plot(history.history['val_loss'], label='Validation Loss')\n",
    "plt.xlabel('Epoch')\n",
    "plt.ylabel('Loss')\n",
    "plt.title('Loss vs Epoch')\n",
    "plt.legend()\n",
    "plt.savefig('loss_vs_epoch.png')\n",
    "plt.show()"
   ]
  },
  {
   "cell_type": "markdown",
   "metadata": {},
   "source": [
    "## Logging with Weights and Biases"
   ]
  },
  {
   "cell_type": "markdown",
   "metadata": {},
   "source": [
    "**Logging the following details:**\n",
    "- Model architecture: Number of layers, neurons, activation functions.\n",
    "- Hyperparameters: Learning rate, batch size, number of epochs.\n",
    "- Training and validation loss per epoch.\n",
    "- Final evaluation metrics.\n",
    "- Confusion matrix and loss curve visualizations."
   ]
  },
  {
   "cell_type": "code",
   "execution_count": 53,
   "metadata": {},
   "outputs": [
    {
     "name": "stderr",
     "output_type": "stream",
     "text": [
      "\u001b[34m\u001b[1mwandb\u001b[0m: \u001b[33mWARNING\u001b[0m If you're specifying your api key in code, ensure this code is not shared publicly.\n",
      "\u001b[34m\u001b[1mwandb\u001b[0m: \u001b[33mWARNING\u001b[0m Consider setting the WANDB_API_KEY environment variable, or running `wandb login` from the command line.\n",
      "\u001b[34m\u001b[1mwandb\u001b[0m: Appending key for api.wandb.ai to your netrc file: /Users/rishanksoni/.netrc\n"
     ]
    },
    {
     "data": {
      "text/plain": [
       "True"
      ]
     },
     "execution_count": 53,
     "metadata": {},
     "output_type": "execute_result"
    }
   ],
   "source": [
    "# Logging using weights and biases\n",
    "import wandb\n",
    "\n",
    "# Take key from API.txt\n",
    "with open('API.txt', 'r') as file:\n",
    "    api_key = file.read()\n",
    "wandb.login(key=api_key)"
   ]
  },
  {
   "cell_type": "code",
   "execution_count": 54,
   "metadata": {},
   "outputs": [
    {
     "data": {
      "text/html": [
       "Tracking run with wandb version 0.19.7"
      ],
      "text/plain": [
       "<IPython.core.display.HTML object>"
      ]
     },
     "metadata": {},
     "output_type": "display_data"
    },
    {
     "data": {
      "text/html": [
       "Run data is saved locally in <code>/Users/rishanksoni/SST_ai/MLP_Experiments_and_Hyperparameters/wandb/run-20250222_231129-nyk2vcxh</code>"
      ],
      "text/plain": [
       "<IPython.core.display.HTML object>"
      ]
     },
     "metadata": {},
     "output_type": "display_data"
    },
    {
     "data": {
      "text/html": [
       "Syncing run <strong><a href='https://wandb.ai/rishisoniandsoni-iit-/Asgn6/runs/nyk2vcxh' target=\"_blank\">proud-wood-3</a></strong> to <a href='https://wandb.ai/rishisoniandsoni-iit-/Asgn6' target=\"_blank\">Weights & Biases</a> (<a href='https://wandb.me/developer-guide' target=\"_blank\">docs</a>)<br>"
      ],
      "text/plain": [
       "<IPython.core.display.HTML object>"
      ]
     },
     "metadata": {},
     "output_type": "display_data"
    },
    {
     "data": {
      "text/html": [
       " View project at <a href='https://wandb.ai/rishisoniandsoni-iit-/Asgn6' target=\"_blank\">https://wandb.ai/rishisoniandsoni-iit-/Asgn6</a>"
      ],
      "text/plain": [
       "<IPython.core.display.HTML object>"
      ]
     },
     "metadata": {},
     "output_type": "display_data"
    },
    {
     "data": {
      "text/html": [
       " View run at <a href='https://wandb.ai/rishisoniandsoni-iit-/Asgn6/runs/nyk2vcxh' target=\"_blank\">https://wandb.ai/rishisoniandsoni-iit-/Asgn6/runs/nyk2vcxh</a>"
      ],
      "text/plain": [
       "<IPython.core.display.HTML object>"
      ]
     },
     "metadata": {},
     "output_type": "display_data"
    },
    {
     "data": {
      "text/html": [],
      "text/plain": [
       "<IPython.core.display.HTML object>"
      ]
     },
     "metadata": {},
     "output_type": "display_data"
    },
    {
     "data": {
      "text/html": [
       "<br>    <style><br>        .wandb-row {<br>            display: flex;<br>            flex-direction: row;<br>            flex-wrap: wrap;<br>            justify-content: flex-start;<br>            width: 100%;<br>        }<br>        .wandb-col {<br>            display: flex;<br>            flex-direction: column;<br>            flex-basis: 100%;<br>            flex: 1;<br>            padding: 10px;<br>        }<br>    </style><br><div class=\"wandb-row\"><div class=\"wandb-col\"><h3>Run history:</h3><br/><table class=\"wandb\"><tr><td>accuracy</td><td>▁</td></tr><tr><td>epoch</td><td>▁▁▁▁▂▂▂▂▂▂▃▃▃▃▃▄▄▄▄▄▅▅▅▅▅▅▆▆▆▆▆▆▇▇▇▇▇▇██</td></tr><tr><td>f1_score</td><td>▁</td></tr><tr><td>precision</td><td>▁</td></tr><tr><td>recall</td><td>▁</td></tr><tr><td>train_loss</td><td>███▇▇▇▇▆▆▆▆▆▅▅▅▅▅▅▄▄▄▄▄▄▃▃▃▃▃▃▂▂▂▂▂▂▁▁▁▁</td></tr><tr><td>val_loss</td><td>██▇▇▇▆▆▆▆▆▅▅▅▅▅▄▄▄▄▄▄▃▃▃▃▃▃▃▃▂▂▂▂▂▂▂▁▁▁▁</td></tr></table><br/></div><div class=\"wandb-col\"><h3>Run summary:</h3><br/><table class=\"wandb\"><tr><td>accuracy</td><td>0.7</td></tr><tr><td>epoch</td><td>50</td></tr><tr><td>f1_score</td><td>0.59355</td></tr><tr><td>precision</td><td>0.535</td></tr><tr><td>recall</td><td>0.7</td></tr><tr><td>train_loss</td><td>0.49929</td></tr><tr><td>val_loss</td><td>0.53218</td></tr></table><br/></div></div>"
      ],
      "text/plain": [
       "<IPython.core.display.HTML object>"
      ]
     },
     "metadata": {},
     "output_type": "display_data"
    },
    {
     "data": {
      "text/html": [
       " View run <strong style=\"color:#cdcd00\">proud-wood-3</strong> at: <a href='https://wandb.ai/rishisoniandsoni-iit-/Asgn6/runs/nyk2vcxh' target=\"_blank\">https://wandb.ai/rishisoniandsoni-iit-/Asgn6/runs/nyk2vcxh</a><br> View project at: <a href='https://wandb.ai/rishisoniandsoni-iit-/Asgn6' target=\"_blank\">https://wandb.ai/rishisoniandsoni-iit-/Asgn6</a><br>Synced 5 W&B file(s), 2 media file(s), 0 artifact file(s) and 0 other file(s)"
      ],
      "text/plain": [
       "<IPython.core.display.HTML object>"
      ]
     },
     "metadata": {},
     "output_type": "display_data"
    },
    {
     "data": {
      "text/html": [
       "Find logs at: <code>./wandb/run-20250222_231129-nyk2vcxh/logs</code>"
      ],
      "text/plain": [
       "<IPython.core.display.HTML object>"
      ]
     },
     "metadata": {},
     "output_type": "display_data"
    }
   ],
   "source": [
    "# Logging the model to weights and biases\n",
    "\n",
    "# Initialize Weights & Biases\n",
    "wandb.init(project=\"Asgn6\")\n",
    "\n",
    "# Log model architecture details\n",
    "model_config = {\n",
    "    \"num_layers\": len(model.layers),\n",
    "    \"layers\": [layer.__class__.__name__ for layer in model.layers],\n",
    "    \"neurons\": [layer.units if hasattr(layer, 'units') else None for layer in model.layers], \n",
    "    \"activations\": [layer.activation.__name__ for layer in model.layers if hasattr(layer, 'activation')],\n",
    "}\n",
    "wandb.config.update(model_config)\n",
    "\n",
    "# Log hyperparameters\n",
    "hyperparams = {\n",
    "    \"learning_rate\": model.optimizer.learning_rate.numpy(),\n",
    "    \"batch_size\": batch_size,\n",
    "    \"epochs\": epochs,\n",
    "}\n",
    "wandb.config.update(hyperparams)\n",
    "\n",
    "# Log training and validation loss per epoch\n",
    "history_data = {\"epoch\": list(range(1, len(history.history['loss']) + 1)),\n",
    "                \"train_loss\": history.history[\"loss\"],\n",
    "                \"val_loss\": history.history[\"val_loss\"]}\n",
    "for epoch, train_loss, val_loss in zip(*history_data.values()):\n",
    "    wandb.log({\"epoch\": epoch, \"train_loss\": train_loss, \"val_loss\": val_loss})\n",
    "\n",
    "# Final evaluation metrics\n",
    "wandb.log({\n",
    "    \"accuracy\": float(accuracy),\n",
    "    \"precision\": float(precision),\n",
    "    \"recall\": float(recall),\n",
    "    \"f1_score\": float(f1)\n",
    "}) \n",
    "\n",
    "\n",
    "# Log pre-generated confusion matrix\n",
    "wandb.log({\"confusion_matrix\": wandb.Image(\"confusion_matrix.png\")})\n",
    "\n",
    "# Log pre-generated loss curve\n",
    "wandb.log({\"loss_curve\": wandb.Image(\"loss_vs_epoch.png\")})\n",
    "\n",
    "\n",
    "# Finish logging\n",
    "wandb.finish()"
   ]
  },
  {
   "cell_type": "markdown",
   "metadata": {},
   "source": [
    "# Task 2\n"
   ]
  },
  {
   "cell_type": "markdown",
   "metadata": {},
   "source": [
    "Use the model trained in the previous section.\n",
    "Train the model on the batch size of [2 & 4], learning rate [1e-3 and 1e-5], and epochs [1, 3, and 5].\n",
    "Train the model and measure the accuracy and F1 over the test set. Plot the confusion matrix over the test-set predictions.\n",
    "Plot using the truth labels and predicted labels in matplotlib. \n",
    "Show the inputs, prediction, and truth values for five samples from the test set.\n",
    "\n"
   ]
  },
  {
   "cell_type": "code",
   "execution_count": 60,
   "metadata": {},
   "outputs": [
    {
     "name": "stdout",
     "output_type": "stream",
     "text": [
      "\n",
      "Training model with batch_size: 2, learning_rate: 0.001, epochs: 1\n",
      "\u001b[1m54/54\u001b[0m \u001b[32m━━━━━━━━━━━━━━━━━━━━\u001b[0m\u001b[37m\u001b[0m \u001b[1m0s\u001b[0m 2ms/step - loss: 0.7239 - val_loss: 0.7019\n",
      "\u001b[1m1/1\u001b[0m \u001b[32m━━━━━━━━━━━━━━━━━━━━\u001b[0m\u001b[37m\u001b[0m \u001b[1m0s\u001b[0m 25ms/step\n",
      "\n",
      "Sample predictions:\n",
      "Input Features | True Label | Predicted Label\n",
      "--------------------------------------------------\n",
      "[0.52941176 0.33333333 0.64912281 0.45833333] | 1 | 0\n",
      "[0.41176471 0.75       0.12280702 0.08333333] | 0 | 2\n",
      "[1.         0.25       1.03508772 0.91666667] | 2 | 0\n",
      "[0.5        0.375      0.61403509 0.58333333] | 1 | 0\n",
      "[0.73529412 0.33333333 0.66666667 0.54166667] | 1 | 0\n",
      "\n",
      "Training model with batch_size: 2, learning_rate: 0.001, epochs: 3\n",
      "Epoch 1/3\n",
      "\u001b[1m54/54\u001b[0m \u001b[32m━━━━━━━━━━━━━━━━━━━━\u001b[0m\u001b[37m\u001b[0m \u001b[1m0s\u001b[0m 2ms/step - loss: 0.7405 - val_loss: 0.7114\n",
      "Epoch 2/3\n",
      "\u001b[1m54/54\u001b[0m \u001b[32m━━━━━━━━━━━━━━━━━━━━\u001b[0m\u001b[37m\u001b[0m \u001b[1m0s\u001b[0m 1ms/step - loss: 0.7105 - val_loss: 0.6890\n",
      "Epoch 3/3\n",
      "\u001b[1m54/54\u001b[0m \u001b[32m━━━━━━━━━━━━━━━━━━━━\u001b[0m\u001b[37m\u001b[0m \u001b[1m0s\u001b[0m 738us/step - loss: 0.6845 - val_loss: 0.6615\n",
      "\u001b[1m1/1\u001b[0m \u001b[32m━━━━━━━━━━━━━━━━━━━━\u001b[0m\u001b[37m\u001b[0m \u001b[1m0s\u001b[0m 22ms/step\n",
      "\n",
      "Sample predictions:\n",
      "Input Features | True Label | Predicted Label\n",
      "--------------------------------------------------\n",
      "[0.52941176 0.33333333 0.64912281 0.45833333] | 1 | 2\n",
      "[0.41176471 0.75       0.12280702 0.08333333] | 0 | 1\n",
      "[1.         0.25       1.03508772 0.91666667] | 2 | 2\n",
      "[0.5        0.375      0.61403509 0.58333333] | 1 | 2\n",
      "[0.73529412 0.33333333 0.66666667 0.54166667] | 1 | 2\n",
      "\n",
      "Training model with batch_size: 2, learning_rate: 0.001, epochs: 5\n",
      "Epoch 1/5\n",
      "\u001b[1m54/54\u001b[0m \u001b[32m━━━━━━━━━━━━━━━━━━━━\u001b[0m\u001b[37m\u001b[0m \u001b[1m0s\u001b[0m 2ms/step - loss: 0.7119 - val_loss: 0.6686\n",
      "Epoch 2/5\n",
      "\u001b[1m54/54\u001b[0m \u001b[32m━━━━━━━━━━━━━━━━━━━━\u001b[0m\u001b[37m\u001b[0m \u001b[1m0s\u001b[0m 762us/step - loss: 0.6680 - val_loss: 0.6310\n",
      "Epoch 3/5\n",
      "\u001b[1m54/54\u001b[0m \u001b[32m━━━━━━━━━━━━━━━━━━━━\u001b[0m\u001b[37m\u001b[0m \u001b[1m0s\u001b[0m 729us/step - loss: 0.6344 - val_loss: 0.6059\n",
      "Epoch 4/5\n",
      "\u001b[1m54/54\u001b[0m \u001b[32m━━━━━━━━━━━━━━━━━━━━\u001b[0m\u001b[37m\u001b[0m \u001b[1m0s\u001b[0m 716us/step - loss: 0.6076 - val_loss: 0.5837\n",
      "Epoch 5/5\n",
      "\u001b[1m54/54\u001b[0m \u001b[32m━━━━━━━━━━━━━━━━━━━━\u001b[0m\u001b[37m\u001b[0m \u001b[1m0s\u001b[0m 1ms/step - loss: 0.5857 - val_loss: 0.5658\n",
      "\u001b[1m1/1\u001b[0m \u001b[32m━━━━━━━━━━━━━━━━━━━━\u001b[0m\u001b[37m\u001b[0m \u001b[1m0s\u001b[0m 23ms/step\n",
      "\n",
      "Sample predictions:\n",
      "Input Features | True Label | Predicted Label\n",
      "--------------------------------------------------\n",
      "[0.52941176 0.33333333 0.64912281 0.45833333] | 1 | 2\n",
      "[0.41176471 0.75       0.12280702 0.08333333] | 0 | 0\n",
      "[1.         0.25       1.03508772 0.91666667] | 2 | 1\n",
      "[0.5        0.375      0.61403509 0.58333333] | 1 | 2\n",
      "[0.73529412 0.33333333 0.66666667 0.54166667] | 1 | 2\n",
      "\n",
      "Training model with batch_size: 2, learning_rate: 1e-05, epochs: 1\n",
      "\u001b[1m54/54\u001b[0m \u001b[32m━━━━━━━━━━━━━━━━━━━━\u001b[0m\u001b[37m\u001b[0m \u001b[1m0s\u001b[0m 2ms/step - loss: 0.7235 - val_loss: 0.7198\n",
      "\u001b[1m1/1\u001b[0m \u001b[32m━━━━━━━━━━━━━━━━━━━━\u001b[0m\u001b[37m\u001b[0m \u001b[1m0s\u001b[0m 43ms/step\n",
      "\n",
      "Sample predictions:\n",
      "Input Features | True Label | Predicted Label\n",
      "--------------------------------------------------\n",
      "[0.52941176 0.33333333 0.64912281 0.45833333] | 1 | 0\n",
      "[0.41176471 0.75       0.12280702 0.08333333] | 0 | 1\n",
      "[1.         0.25       1.03508772 0.91666667] | 2 | 0\n",
      "[0.5        0.375      0.61403509 0.58333333] | 1 | 0\n",
      "[0.73529412 0.33333333 0.66666667 0.54166667] | 1 | 0\n",
      "\n",
      "Training model with batch_size: 2, learning_rate: 1e-05, epochs: 3\n",
      "Epoch 1/3\n",
      "\u001b[1m54/54\u001b[0m \u001b[32m━━━━━━━━━━━━━━━━━━━━\u001b[0m\u001b[37m\u001b[0m \u001b[1m0s\u001b[0m 2ms/step - loss: 0.6877 - val_loss: 0.6912\n",
      "Epoch 2/3\n",
      "\u001b[1m54/54\u001b[0m \u001b[32m━━━━━━━━━━━━━━━━━━━━\u001b[0m\u001b[37m\u001b[0m \u001b[1m0s\u001b[0m 813us/step - loss: 0.6860 - val_loss: 0.6906\n",
      "Epoch 3/3\n",
      "\u001b[1m54/54\u001b[0m \u001b[32m━━━━━━━━━━━━━━━━━━━━\u001b[0m\u001b[37m\u001b[0m \u001b[1m0s\u001b[0m 747us/step - loss: 0.6852 - val_loss: 0.6900\n",
      "\u001b[1m1/1\u001b[0m \u001b[32m━━━━━━━━━━━━━━━━━━━━\u001b[0m\u001b[37m\u001b[0m \u001b[1m0s\u001b[0m 23ms/step\n",
      "\n",
      "Sample predictions:\n",
      "Input Features | True Label | Predicted Label\n",
      "--------------------------------------------------\n",
      "[0.52941176 0.33333333 0.64912281 0.45833333] | 1 | 1\n",
      "[0.41176471 0.75       0.12280702 0.08333333] | 0 | 1\n",
      "[1.         0.25       1.03508772 0.91666667] | 2 | 1\n",
      "[0.5        0.375      0.61403509 0.58333333] | 1 | 1\n",
      "[0.73529412 0.33333333 0.66666667 0.54166667] | 1 | 1\n",
      "\n",
      "Training model with batch_size: 2, learning_rate: 1e-05, epochs: 5\n",
      "Epoch 1/5\n",
      "\u001b[1m54/54\u001b[0m \u001b[32m━━━━━━━━━━━━━━━━━━━━\u001b[0m\u001b[37m\u001b[0m \u001b[1m0s\u001b[0m 2ms/step - loss: 0.6453 - val_loss: 0.6511\n",
      "Epoch 2/5\n",
      "\u001b[1m54/54\u001b[0m \u001b[32m━━━━━━━━━━━━━━━━━━━━\u001b[0m\u001b[37m\u001b[0m \u001b[1m0s\u001b[0m 778us/step - loss: 0.6542 - val_loss: 0.6507\n",
      "Epoch 3/5\n",
      "\u001b[1m54/54\u001b[0m \u001b[32m━━━━━━━━━━━━━━━━━━━━\u001b[0m\u001b[37m\u001b[0m \u001b[1m0s\u001b[0m 722us/step - loss: 0.6454 - val_loss: 0.6503\n",
      "Epoch 4/5\n",
      "\u001b[1m54/54\u001b[0m \u001b[32m━━━━━━━━━━━━━━━━━━━━\u001b[0m\u001b[37m\u001b[0m \u001b[1m0s\u001b[0m 716us/step - loss: 0.6556 - val_loss: 0.6499\n",
      "Epoch 5/5\n",
      "\u001b[1m54/54\u001b[0m \u001b[32m━━━━━━━━━━━━━━━━━━━━\u001b[0m\u001b[37m\u001b[0m \u001b[1m0s\u001b[0m 706us/step - loss: 0.6454 - val_loss: 0.6495\n",
      "\u001b[1m1/1\u001b[0m \u001b[32m━━━━━━━━━━━━━━━━━━━━\u001b[0m\u001b[37m\u001b[0m \u001b[1m0s\u001b[0m 25ms/step\n",
      "\n",
      "Sample predictions:\n",
      "Input Features | True Label | Predicted Label\n",
      "--------------------------------------------------\n",
      "[0.52941176 0.33333333 0.64912281 0.45833333] | 1 | 2\n",
      "[0.41176471 0.75       0.12280702 0.08333333] | 0 | 0\n",
      "[1.         0.25       1.03508772 0.91666667] | 2 | 2\n",
      "[0.5        0.375      0.61403509 0.58333333] | 1 | 2\n",
      "[0.73529412 0.33333333 0.66666667 0.54166667] | 1 | 2\n",
      "\n",
      "Training model with batch_size: 4, learning_rate: 0.001, epochs: 1\n",
      "\u001b[1m27/27\u001b[0m \u001b[32m━━━━━━━━━━━━━━━━━━━━\u001b[0m\u001b[37m\u001b[0m \u001b[1m0s\u001b[0m 3ms/step - loss: 0.6306 - val_loss: 0.6023\n",
      "\u001b[1m1/1\u001b[0m \u001b[32m━━━━━━━━━━━━━━━━━━━━\u001b[0m\u001b[37m\u001b[0m \u001b[1m0s\u001b[0m 23ms/step\n",
      "\n",
      "Sample predictions:\n",
      "Input Features | True Label | Predicted Label\n",
      "--------------------------------------------------\n",
      "[0.52941176 0.33333333 0.64912281 0.45833333] | 1 | 2\n",
      "[0.41176471 0.75       0.12280702 0.08333333] | 0 | 2\n",
      "[1.         0.25       1.03508772 0.91666667] | 2 | 2\n",
      "[0.5        0.375      0.61403509 0.58333333] | 1 | 2\n",
      "[0.73529412 0.33333333 0.66666667 0.54166667] | 1 | 2\n",
      "\n",
      "Training model with batch_size: 4, learning_rate: 0.001, epochs: 3\n",
      "Epoch 1/3\n",
      "\u001b[1m27/27\u001b[0m \u001b[32m━━━━━━━━━━━━━━━━━━━━\u001b[0m\u001b[37m\u001b[0m \u001b[1m0s\u001b[0m 3ms/step - loss: 0.7064 - val_loss: 0.6920\n",
      "Epoch 2/3\n",
      "\u001b[1m27/27\u001b[0m \u001b[32m━━━━━━━━━━━━━━━━━━━━\u001b[0m\u001b[37m\u001b[0m \u001b[1m0s\u001b[0m 1ms/step - loss: 0.6869 - val_loss: 0.6729\n",
      "Epoch 3/3\n",
      "\u001b[1m27/27\u001b[0m \u001b[32m━━━━━━━━━━━━━━━━━━━━\u001b[0m\u001b[37m\u001b[0m \u001b[1m0s\u001b[0m 1ms/step - loss: 0.6684 - val_loss: 0.6564\n",
      "\u001b[1m1/1\u001b[0m \u001b[32m━━━━━━━━━━━━━━━━━━━━\u001b[0m\u001b[37m\u001b[0m \u001b[1m0s\u001b[0m 25ms/step\n",
      "\n",
      "Sample predictions:\n",
      "Input Features | True Label | Predicted Label\n",
      "--------------------------------------------------\n",
      "[0.52941176 0.33333333 0.64912281 0.45833333] | 1 | 2\n",
      "[0.41176471 0.75       0.12280702 0.08333333] | 0 | 0\n",
      "[1.         0.25       1.03508772 0.91666667] | 2 | 2\n",
      "[0.5        0.375      0.61403509 0.58333333] | 1 | 2\n",
      "[0.73529412 0.33333333 0.66666667 0.54166667] | 1 | 2\n",
      "\n",
      "Training model with batch_size: 4, learning_rate: 0.001, epochs: 5\n",
      "Epoch 1/5\n",
      "\u001b[1m27/27\u001b[0m \u001b[32m━━━━━━━━━━━━━━━━━━━━\u001b[0m\u001b[37m\u001b[0m \u001b[1m0s\u001b[0m 3ms/step - loss: 0.6846 - val_loss: 0.6749\n",
      "Epoch 2/5\n",
      "\u001b[1m27/27\u001b[0m \u001b[32m━━━━━━━━━━━━━━━━━━━━\u001b[0m\u001b[37m\u001b[0m \u001b[1m0s\u001b[0m 1ms/step - loss: 0.6536 - val_loss: 0.6502\n",
      "Epoch 3/5\n",
      "\u001b[1m27/27\u001b[0m \u001b[32m━━━━━━━━━━━━━━━━━━━━\u001b[0m\u001b[37m\u001b[0m \u001b[1m0s\u001b[0m 1ms/step - loss: 0.6320 - val_loss: 0.6319\n",
      "Epoch 4/5\n",
      "\u001b[1m27/27\u001b[0m \u001b[32m━━━━━━━━━━━━━━━━━━━━\u001b[0m\u001b[37m\u001b[0m \u001b[1m0s\u001b[0m 1ms/step - loss: 0.6190 - val_loss: 0.6151\n",
      "Epoch 5/5\n",
      "\u001b[1m27/27\u001b[0m \u001b[32m━━━━━━━━━━━━━━━━━━━━\u001b[0m\u001b[37m\u001b[0m \u001b[1m0s\u001b[0m 1ms/step - loss: 0.6039 - val_loss: 0.6007\n",
      "\u001b[1m1/1\u001b[0m \u001b[32m━━━━━━━━━━━━━━━━━━━━\u001b[0m\u001b[37m\u001b[0m \u001b[1m0s\u001b[0m 28ms/step\n",
      "\n",
      "Sample predictions:\n",
      "Input Features | True Label | Predicted Label\n",
      "--------------------------------------------------\n",
      "[0.52941176 0.33333333 0.64912281 0.45833333] | 1 | 2\n",
      "[0.41176471 0.75       0.12280702 0.08333333] | 0 | 0\n",
      "[1.         0.25       1.03508772 0.91666667] | 2 | 2\n",
      "[0.5        0.375      0.61403509 0.58333333] | 1 | 2\n",
      "[0.73529412 0.33333333 0.66666667 0.54166667] | 1 | 2\n",
      "\n",
      "Training model with batch_size: 4, learning_rate: 1e-05, epochs: 1\n",
      "\u001b[1m27/27\u001b[0m \u001b[32m━━━━━━━━━━━━━━━━━━━━\u001b[0m\u001b[37m\u001b[0m \u001b[1m0s\u001b[0m 3ms/step - loss: 0.7397 - val_loss: 0.7714\n",
      "\u001b[1m1/1\u001b[0m \u001b[32m━━━━━━━━━━━━━━━━━━━━\u001b[0m\u001b[37m\u001b[0m \u001b[1m0s\u001b[0m 22ms/step\n",
      "\n",
      "Sample predictions:\n",
      "Input Features | True Label | Predicted Label\n",
      "--------------------------------------------------\n",
      "[0.52941176 0.33333333 0.64912281 0.45833333] | 1 | 0\n",
      "[0.41176471 0.75       0.12280702 0.08333333] | 0 | 0\n",
      "[1.         0.25       1.03508772 0.91666667] | 2 | 0\n",
      "[0.5        0.375      0.61403509 0.58333333] | 1 | 0\n",
      "[0.73529412 0.33333333 0.66666667 0.54166667] | 1 | 0\n",
      "\n",
      "Training model with batch_size: 4, learning_rate: 1e-05, epochs: 3\n",
      "Epoch 1/3\n",
      "\u001b[1m27/27\u001b[0m \u001b[32m━━━━━━━━━━━━━━━━━━━━\u001b[0m\u001b[37m\u001b[0m \u001b[1m0s\u001b[0m 3ms/step - loss: 0.6794 - val_loss: 0.6842\n",
      "Epoch 2/3\n",
      "\u001b[1m27/27\u001b[0m \u001b[32m━━━━━━━━━━━━━━━━━━━━\u001b[0m\u001b[37m\u001b[0m \u001b[1m0s\u001b[0m 1ms/step - loss: 0.6845 - val_loss: 0.6838\n",
      "Epoch 3/3\n",
      "\u001b[1m27/27\u001b[0m \u001b[32m━━━━━━━━━━━━━━━━━━━━\u001b[0m\u001b[37m\u001b[0m \u001b[1m0s\u001b[0m 1ms/step - loss: 0.6849 - val_loss: 0.6834\n",
      "\u001b[1m1/1\u001b[0m \u001b[32m━━━━━━━━━━━━━━━━━━━━\u001b[0m\u001b[37m\u001b[0m \u001b[1m0s\u001b[0m 22ms/step\n",
      "\n",
      "Sample predictions:\n",
      "Input Features | True Label | Predicted Label\n",
      "--------------------------------------------------\n",
      "[0.52941176 0.33333333 0.64912281 0.45833333] | 1 | 1\n",
      "[0.41176471 0.75       0.12280702 0.08333333] | 0 | 0\n",
      "[1.         0.25       1.03508772 0.91666667] | 2 | 1\n",
      "[0.5        0.375      0.61403509 0.58333333] | 1 | 1\n",
      "[0.73529412 0.33333333 0.66666667 0.54166667] | 1 | 1\n",
      "\n",
      "Training model with batch_size: 4, learning_rate: 1e-05, epochs: 5\n",
      "Epoch 1/5\n",
      "\u001b[1m27/27\u001b[0m \u001b[32m━━━━━━━━━━━━━━━━━━━━\u001b[0m\u001b[37m\u001b[0m \u001b[1m0s\u001b[0m 3ms/step - loss: 0.6672 - val_loss: 0.6788\n",
      "Epoch 2/5\n",
      "\u001b[1m27/27\u001b[0m \u001b[32m━━━━━━━━━━━━━━━━━━━━\u001b[0m\u001b[37m\u001b[0m \u001b[1m0s\u001b[0m 1ms/step - loss: 0.6710 - val_loss: 0.6786\n",
      "Epoch 3/5\n",
      "\u001b[1m27/27\u001b[0m \u001b[32m━━━━━━━━━━━━━━━━━━━━\u001b[0m\u001b[37m\u001b[0m \u001b[1m0s\u001b[0m 1ms/step - loss: 0.6747 - val_loss: 0.6784\n",
      "Epoch 4/5\n",
      "\u001b[1m27/27\u001b[0m \u001b[32m━━━━━━━━━━━━━━━━━━━━\u001b[0m\u001b[37m\u001b[0m \u001b[1m0s\u001b[0m 1ms/step - loss: 0.6717 - val_loss: 0.6782\n",
      "Epoch 5/5\n",
      "\u001b[1m27/27\u001b[0m \u001b[32m━━━━━━━━━━━━━━━━━━━━\u001b[0m\u001b[37m\u001b[0m \u001b[1m0s\u001b[0m 1ms/step - loss: 0.6669 - val_loss: 0.6780\n",
      "\u001b[1m1/1\u001b[0m \u001b[32m━━━━━━━━━━━━━━━━━━━━\u001b[0m\u001b[37m\u001b[0m \u001b[1m0s\u001b[0m 22ms/step\n",
      "\n",
      "Sample predictions:\n",
      "Input Features | True Label | Predicted Label\n",
      "--------------------------------------------------\n",
      "[0.52941176 0.33333333 0.64912281 0.45833333] | 1 | 1\n",
      "[0.41176471 0.75       0.12280702 0.08333333] | 0 | 0\n",
      "[1.         0.25       1.03508772 0.91666667] | 2 | 1\n",
      "[0.5        0.375      0.61403509 0.58333333] | 1 | 1\n",
      "[0.73529412 0.33333333 0.66666667 0.54166667] | 1 | 1\n"
     ]
    }
   ],
   "source": [
    "import seaborn as sns\n",
    "from sklearn.metrics import confusion_matrix\n",
    "\n",
    "import matplotlib.pyplot as plt\n",
    "\n",
    "# Define parameters for grid search\n",
    "param = {\n",
    "    'batch_size': [2, 4],\n",
    "    'learning_rate': [0.001, 1e-5],\n",
    "    'epochs': [1, 3, 5]\n",
    "}\n",
    "\n",
    "results = []\n",
    "for batch_size in param['batch_size']:\n",
    "    for learning_rate in param['learning_rate']:\n",
    "        for epochs in param['epochs']:\n",
    "            print(f\"\\nTraining model with batch_size: {batch_size}, learning_rate: {learning_rate}, epochs: {epochs}\")\n",
    "            keras.backend.clear_session()\n",
    "\n",
    "            model = Sequential()\n",
    "            model.add(Dense(16, input_dim=4, activation='relu'))\n",
    "            model.add(Dense(3, activation='softmax'))\n",
    "\n",
    "            model.compile(optimizer=keras.optimizers.Adam(learning_rate=learning_rate),\n",
    "                loss=keras.losses.BinaryCrossentropy())\n",
    "\n",
    "\n",
    "            # Training the model\n",
    "            history = model.fit(X_train, y_train, epochs=epochs, batch_size=batch_size, \n",
    "                              verbose=1, validation_split=0.1)\n",
    "\n",
    "            # Evaluating the model\n",
    "            y_pred = model.predict(X_test)\n",
    "            y_pred_classes = np.argmax(y_pred, axis=1)\n",
    "            y_test_classes = np.argmax(y_test, axis=1)\n",
    "\n",
    "            # Calculate metrics\n",
    "            accuracy = accuracy_score(y_test_classes, y_pred_classes)\n",
    "            f1 = f1_score(y_test_classes, y_pred_classes, average='weighted')\n",
    "            \n",
    "            # Store results\n",
    "            results.append({\n",
    "                'batch_size': batch_size,\n",
    "                'learning_rate': learning_rate,\n",
    "                'epochs': epochs,\n",
    "                'accuracy': accuracy,\n",
    "                'f1': f1\n",
    "            })\n",
    "            # store y_pred_classes and y_test_classes for confusion matrix\n",
    "            results[-1]['y_pred_classes'] = y_pred_classes\n",
    "            results[-1]['y_test_classes'] = y_test_classes\n",
    "            \n",
    "\n",
    "            # Show 5 sample predictions\n",
    "            print(\"\\nSample predictions:\")\n",
    "            print(\"Input Features | True Label | Predicted Label\")\n",
    "            print(\"-\" * 50)\n",
    "            for i in range(5):\n",
    "                true_label = y_test_classes[i]\n",
    "                pred_label = y_pred_classes[i]\n",
    "                features = X_test[i]\n",
    "                print(f\"{features} | {true_label} | {pred_label}\")\n",
    "\n",
    "\n",
    "\n"
   ]
  },
  {
   "cell_type": "code",
   "execution_count": 61,
   "metadata": {},
   "outputs": [
    {
     "data": {
      "image/png": "[encoded data removed]",
      "text/plain": [
       "<Figure size 2000x1500 with 24 Axes>"
      ]
     },
     "metadata": {},
     "output_type": "display_data"
    }
   ],
   "source": [
    "# Plotting confusion matrix for all configurations\n",
    "plt.figure(figsize=(20, 15))\n",
    "for i, result in enumerate(results):\n",
    "    plt.subplot(3, 4, i + 1)  # 3 rows, 4 columns to accommodate all 12 configurations\n",
    "    cm = confusion_matrix(result['y_test_classes'], result['y_pred_classes'])\n",
    "    sns.heatmap(cm, annot=True, fmt='d', cmap='Blues')\n",
    "    plt.title(f'Batch:{result[\"batch_size\"]}, \\nLR:{result[\"learning_rate\"]}, Epochs:{result[\"epochs\"]}')\n",
    "    plt.xlabel('Predicted')\n",
    "    plt.ylabel('True')\n",
    "plt.tight_layout()\n",
    "\n",
    "plt.show()\n"
   ]
  },
  {
   "cell_type": "code",
   "execution_count": 62,
   "metadata": {},
   "outputs": [
    {
     "name": "stdout",
     "output_type": "stream",
     "text": [
      "\n",
      "Best configuration:\n",
      "Batch size: 2\n",
      "Learning rate: 1e-05\n",
      "Epochs: 5\n",
      "Accuracy: 0.7000\n",
      "F1 Score: 0.5935\n"
     ]
    }
   ],
   "source": [
    "best_result = max(results, key=lambda x: x['accuracy'])\n",
    "print(\"\\nBest configuration:\")\n",
    "print(f\"Batch size: {best_result['batch_size']}\")\n",
    "print(f\"Learning rate: {best_result['learning_rate']}\")\n",
    "print(f\"Epochs: {best_result['epochs']}\")\n",
    "print(f\"Accuracy: {best_result['accuracy']:.4f}\")\n",
    "print(f\"F1 Score: {best_result['f1']:.4f}\")\n"
   ]
  },
  {
   "cell_type": "code",
   "execution_count": null,
   "metadata": {},
   "outputs": [],
   "source": []
  },
  {
   "cell_type": "code",
   "execution_count": null,
   "metadata": {},
   "outputs": [],
   "source": [
    "    # Define a simpler search space to start with\n",
    "param_grid = {\n",
    "     'num_epochs': 50,         # Fixed number of epochs\n",
    "            'learning_rate': 0.001,   # Fixed learning rate\n",
    "            'activation': 'relu',     # Fixed activation\n",
    "            'dropout_prob': 0.1,      # Fixed dropout\n",
    "            'weight_decay': 0.001,    # L2 regularization\n",
    "            'optimizer': 'adam'       # Fixed optimizer\n",
    "        }\n",
    "#printing the parameters\n",
    "print(param_grid)\n"
   ]
  },
  {
   "cell_type": "code",
   "execution_count": null,
   "metadata": {},
   "outputs": [],
   "source": []
  }
 ],
 "metadata": {
  "kernelspec": {
   "display_name": "Python 3",
   "language": "python",
   "name": "python3"
  },
  "language_info": {
   "codemirror_mode": {
    "name": "ipython",
    "version": 3
   },
   "file_extension": ".py",
   "mimetype": "text/x-python",
   "name": "python",
   "nbconvert_exporter": "python",
   "pygments_lexer": "ipython3",
   "version": "3.12.2"
  }
 },
 "nbformat": 4,
 "nbformat_minor": 2
}
